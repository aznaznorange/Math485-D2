{
 "cells": [
  {
   "cell_type": "code",
   "execution_count": 158,
   "metadata": {},
   "outputs": [],
   "source": [
    "import pandas as pd\n",
    "import matplotlib.pyplot as plt\n",
    "import numpy as np"
   ]
  },
  {
   "cell_type": "code",
   "execution_count": 161,
   "metadata": {},
   "outputs": [],
   "source": [
    "data = pd.read_csv('/Users/ethanweiss/Desktop/crx (2).data',names = ['A1','A2','A3','A4','A5','A6','A7','A8','A9','A10','A11','A12','A13','A14','A15','A16'])"
   ]
  },
  {
   "cell_type": "code",
   "execution_count": 162,
   "metadata": {},
   "outputs": [],
   "source": [
    "a1 = data.loc[:,'A1'].to_list()\n",
    "for i in range(len(a1)):\n",
    "    if a1[i] == 'b':\n",
    "        a1[i] = 1\n",
    "    elif a1[i] == 'a':\n",
    "        a1[i] = 0\n",
    "    else:\n",
    "        a1[i] = float('nan')\n",
    "data['A1'] = a1"
   ]
  },
  {
   "cell_type": "code",
   "execution_count": 163,
   "metadata": {},
   "outputs": [],
   "source": [
    "a2 = data.loc[:,'A2'].to_list()\n",
    "a14 = data.loc[:,'A14'].to_list()\n",
    "for i in range(len(a2)):\n",
    "    try:\n",
    "        a2[i] = float(a2[i])\n",
    "    except:\n",
    "        a2[i] = float('nan')\n",
    "    try:\n",
    "        a14[i] = float(a14[i])\n",
    "    except:\n",
    "        a14[i] = float('nan')\n",
    "data['A2'] = a2\n",
    "data['A14'] = a14"
   ]
  },
  {
   "cell_type": "code",
   "execution_count": 164,
   "metadata": {},
   "outputs": [],
   "source": [
    "a4 = data.loc[:,'A4'].to_list()\n",
    "for i in range(len(a4)):\n",
    "    if a4[i] == '?':\n",
    "        a4[i] = float('nan')\n",
    "data['A4'] = a4"
   ]
  },
  {
   "cell_type": "code",
   "execution_count": 165,
   "metadata": {},
   "outputs": [],
   "source": [
    "a5 = data.loc[:,'A5'].to_list()\n",
    "for i in range(len(a5)):\n",
    "    if a5[i] == '?':\n",
    "        a5[i] = float('nan')\n",
    "data['A5'] = a5"
   ]
  },
  {
   "cell_type": "code",
   "execution_count": 166,
   "metadata": {},
   "outputs": [],
   "source": [
    "a6 = data.loc[:,'A6'].to_list()\n",
    "for i in range(len(a6)):\n",
    "    if a6[i] == '?':\n",
    "        a6[i] = float('nan')\n",
    "data['A6'] = a6"
   ]
  },
  {
   "cell_type": "code",
   "execution_count": 167,
   "metadata": {},
   "outputs": [],
   "source": [
    "a7 = data.loc[:,'A7'].to_list()\n",
    "for i in range(len(a7)):\n",
    "    if a7[i] == '?':\n",
    "        a7[i] = float('nan')\n",
    "data['A7'] = a7"
   ]
  },
  {
   "cell_type": "code",
   "execution_count": 168,
   "metadata": {},
   "outputs": [],
   "source": [
    "a16 = data.loc[:,'A16'].to_list()\n",
    "for i in range(len(a16)):\n",
    "    if a16[i] == '+':\n",
    "        a16[i] = 1\n",
    "    else:\n",
    "        a16[i] = 0\n",
    "data['A16'] = a16"
   ]
  },
  {
   "cell_type": "code",
   "execution_count": 169,
   "metadata": {},
   "outputs": [],
   "source": [
    "data.to_csv('/Users/ethanweiss/Desktop/485Project_data.csv',index = False)"
   ]
  },
  {
   "cell_type": "code",
   "execution_count": null,
   "metadata": {},
   "outputs": [],
   "source": []
  }
 ],
 "metadata": {
  "kernelspec": {
   "display_name": "Python 3",
   "language": "python",
   "name": "python3"
  },
  "language_info": {
   "codemirror_mode": {
    "name": "ipython",
    "version": 3
   },
   "file_extension": ".py",
   "mimetype": "text/x-python",
   "name": "python",
   "nbconvert_exporter": "python",
   "pygments_lexer": "ipython3",
   "version": "3.7.3"
  }
 },
 "nbformat": 4,
 "nbformat_minor": 2
}
